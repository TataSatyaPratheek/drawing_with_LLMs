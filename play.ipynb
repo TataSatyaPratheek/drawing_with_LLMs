{
 "cells": [
  {
   "cell_type": "code",
   "execution_count": 1,
   "metadata": {},
   "outputs": [],
   "source": [
    "import pandas as pd"
   ]
  },
  {
   "cell_type": "code",
   "execution_count": 4,
   "metadata": {},
   "outputs": [
    {
     "data": {
      "application/vnd.microsoft.datawrangler.viewer.v0+json": {
       "columns": [
        {
         "name": "index",
         "rawType": "int64",
         "type": "integer"
        },
        {
         "name": "id",
         "rawType": "object",
         "type": "string"
        },
        {
         "name": "description",
         "rawType": "object",
         "type": "string"
        }
       ],
       "conversionMethod": "pd.DataFrame",
       "ref": "99e33178-76c5-41c6-9372-31948191f3ba",
       "rows": [
        [
         "0",
         "04c411",
         "a starlit night over snow-covered peaks"
        ],
        [
         "1",
         "215136",
         "black and white checkered pants"
        ],
        [
         "2",
         "3e2bc6",
         "crimson rectangles forming a chaotic grid"
        ],
        [
         "3",
         "61d7a8",
         "burgundy corduroy pants with patch pockets and silver buttons"
        ],
        [
         "4",
         "6f2ca7",
         "orange corduroy overalls"
        ],
        [
         "5",
         "8066ae",
         "a lighthouse overlooking the ocean"
        ],
        [
         "6",
         "828a8f",
         "a green lagoon under a cloudy sky"
        ],
        [
         "7",
         "98f11f",
         "a snowy plain"
        ],
        [
         "8",
         "9ce3c4",
         "a maroon dodecahedron interwoven with teal threads"
        ],
        [
         "9",
         "a9ecbb",
         "a purple silk scarf with tassel trim"
        ],
        [
         "10",
         "bf3306",
         "magenta trapezoids layered on a transluscent silver sheet"
        ],
        [
         "11",
         "e2240f",
         "gray wool coat with a faux fur collar"
        ],
        [
         "12",
         "f02e39",
         "a purple forest at dusk"
        ],
        [
         "13",
         "f6790a",
         "purple pyramids spiraling around a bronze cone"
        ],
        [
         "14",
         "f9edd5",
         "khaki triangles and azure crescents"
        ]
       ],
       "shape": {
        "columns": 2,
        "rows": 15
       }
      },
      "text/html": [
       "<div>\n",
       "<style scoped>\n",
       "    .dataframe tbody tr th:only-of-type {\n",
       "        vertical-align: middle;\n",
       "    }\n",
       "\n",
       "    .dataframe tbody tr th {\n",
       "        vertical-align: top;\n",
       "    }\n",
       "\n",
       "    .dataframe thead th {\n",
       "        text-align: right;\n",
       "    }\n",
       "</style>\n",
       "<table border=\"1\" class=\"dataframe\">\n",
       "  <thead>\n",
       "    <tr style=\"text-align: right;\">\n",
       "      <th></th>\n",
       "      <th>id</th>\n",
       "      <th>description</th>\n",
       "    </tr>\n",
       "  </thead>\n",
       "  <tbody>\n",
       "    <tr>\n",
       "      <th>0</th>\n",
       "      <td>04c411</td>\n",
       "      <td>a starlit night over snow-covered peaks</td>\n",
       "    </tr>\n",
       "    <tr>\n",
       "      <th>1</th>\n",
       "      <td>215136</td>\n",
       "      <td>black and white checkered pants</td>\n",
       "    </tr>\n",
       "    <tr>\n",
       "      <th>2</th>\n",
       "      <td>3e2bc6</td>\n",
       "      <td>crimson rectangles forming a chaotic grid</td>\n",
       "    </tr>\n",
       "    <tr>\n",
       "      <th>3</th>\n",
       "      <td>61d7a8</td>\n",
       "      <td>burgundy corduroy pants with patch pockets and...</td>\n",
       "    </tr>\n",
       "    <tr>\n",
       "      <th>4</th>\n",
       "      <td>6f2ca7</td>\n",
       "      <td>orange corduroy overalls</td>\n",
       "    </tr>\n",
       "    <tr>\n",
       "      <th>5</th>\n",
       "      <td>8066ae</td>\n",
       "      <td>a lighthouse overlooking the ocean</td>\n",
       "    </tr>\n",
       "    <tr>\n",
       "      <th>6</th>\n",
       "      <td>828a8f</td>\n",
       "      <td>a green lagoon under a cloudy sky</td>\n",
       "    </tr>\n",
       "    <tr>\n",
       "      <th>7</th>\n",
       "      <td>98f11f</td>\n",
       "      <td>a snowy plain</td>\n",
       "    </tr>\n",
       "    <tr>\n",
       "      <th>8</th>\n",
       "      <td>9ce3c4</td>\n",
       "      <td>a maroon dodecahedron interwoven with teal thr...</td>\n",
       "    </tr>\n",
       "    <tr>\n",
       "      <th>9</th>\n",
       "      <td>a9ecbb</td>\n",
       "      <td>a purple silk scarf with tassel trim</td>\n",
       "    </tr>\n",
       "    <tr>\n",
       "      <th>10</th>\n",
       "      <td>bf3306</td>\n",
       "      <td>magenta trapezoids layered on a transluscent s...</td>\n",
       "    </tr>\n",
       "    <tr>\n",
       "      <th>11</th>\n",
       "      <td>e2240f</td>\n",
       "      <td>gray wool coat with a faux fur collar</td>\n",
       "    </tr>\n",
       "    <tr>\n",
       "      <th>12</th>\n",
       "      <td>f02e39</td>\n",
       "      <td>a purple forest at dusk</td>\n",
       "    </tr>\n",
       "    <tr>\n",
       "      <th>13</th>\n",
       "      <td>f6790a</td>\n",
       "      <td>purple pyramids spiraling around a bronze cone</td>\n",
       "    </tr>\n",
       "    <tr>\n",
       "      <th>14</th>\n",
       "      <td>f9edd5</td>\n",
       "      <td>khaki triangles and azure crescents</td>\n",
       "    </tr>\n",
       "  </tbody>\n",
       "</table>\n",
       "</div>"
      ],
      "text/plain": [
       "        id                                        description\n",
       "0   04c411            a starlit night over snow-covered peaks\n",
       "1   215136                    black and white checkered pants\n",
       "2   3e2bc6          crimson rectangles forming a chaotic grid\n",
       "3   61d7a8  burgundy corduroy pants with patch pockets and...\n",
       "4   6f2ca7                           orange corduroy overalls\n",
       "5   8066ae                 a lighthouse overlooking the ocean\n",
       "6   828a8f                  a green lagoon under a cloudy sky\n",
       "7   98f11f                                      a snowy plain\n",
       "8   9ce3c4  a maroon dodecahedron interwoven with teal thr...\n",
       "9   a9ecbb               a purple silk scarf with tassel trim\n",
       "10  bf3306  magenta trapezoids layered on a transluscent s...\n",
       "11  e2240f              gray wool coat with a faux fur collar\n",
       "12  f02e39                            a purple forest at dusk\n",
       "13  f6790a     purple pyramids spiraling around a bronze cone\n",
       "14  f9edd5                khaki triangles and azure crescents"
      ]
     },
     "execution_count": 4,
     "metadata": {},
     "output_type": "execute_result"
    }
   ],
   "source": [
    "df = pd.read_csv('train.csv')\n",
    "df"
   ]
  },
  {
   "cell_type": "code",
   "execution_count": null,
   "metadata": {},
   "outputs": [],
   "source": []
  },
  {
   "cell_type": "code",
   "execution_count": null,
   "metadata": {},
   "outputs": [],
   "source": []
  },
  {
   "cell_type": "code",
   "execution_count": null,
   "metadata": {},
   "outputs": [],
   "source": []
  },
  {
   "cell_type": "code",
   "execution_count": null,
   "metadata": {},
   "outputs": [],
   "source": []
  },
  {
   "cell_type": "code",
   "execution_count": null,
   "metadata": {},
   "outputs": [],
   "source": []
  }
 ],
 "metadata": {
  "kernelspec": {
   "display_name": "pytorch-env",
   "language": "python",
   "name": "python3"
  },
  "language_info": {
   "codemirror_mode": {
    "name": "ipython",
    "version": 3
   },
   "file_extension": ".py",
   "mimetype": "text/x-python",
   "name": "python",
   "nbconvert_exporter": "python",
   "pygments_lexer": "ipython3",
   "version": "3.12.9"
  }
 },
 "nbformat": 4,
 "nbformat_minor": 2
}
